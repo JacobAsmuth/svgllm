{
  "cells": [
    {
      "cell_type": "markdown",
      "metadata": {},
      "source": [
        "# svgllm SFT on Colab (LLaVA 1.5 7B)\n",
        "\n",
        "This notebook mounts Google Drive, installs dependencies, clones the repo, and runs a small SFT job using data stored on Drive.\n"
      ]
    },
    {
      "cell_type": "code",
      "execution_count": null,
      "metadata": {},
      "outputs": [],
      "source": [
        "# 1) Runtime: set GPU to A100 in Colab UI: Runtime > Change runtime type > GPU > A100\n",
        "from google.colab import drive  # type: ignore\n",
        "\n",
        "drive.mount('/content/drive', force_remount=True)\n",
        "\n",
        "COLAB_ROOT = '/content'\n",
        "REPO_DIR = f'{COLAB_ROOT}/svgllm'\n",
        "DRIVE_ROOT = '/content/drive/MyDrive/svgllm'\n",
        "DATA_DIR = f'{DRIVE_ROOT}/data/svgs'  # customize if needed\n",
        "OUTPUT_DIR = f'{DRIVE_ROOT}/runs/sft-llava'\n",
        "\n",
        "print('Drive mounted. Data dir:', DATA_DIR)\n"
      ]
    },
    {
      "cell_type": "code",
      "execution_count": null,
      "metadata": {},
      "outputs": [],
      "source": [
        "# 2) Install dependencies and clone repo\n",
        "!pip -q install -U uv\n",
        "!test -d $REPO_DIR || git clone https://github.com/JacobAsmuth/svgllm $REPO_DIR\n",
        "%cd $REPO_DIR\n",
        "!uv sync\n"
      ]
    },
    {
      "cell_type": "code",
      "execution_count": null,
      "metadata": {},
      "outputs": [],
      "source": [
        "# 3) Quick dataset sanity check: count and preview a rendered sample\n",
        "import os\n",
        "from PIL import Image\n",
        "from svgllm.data.svg_dataset import SvgSftDataset\n",
        "\n",
        "ds = SvgSftDataset(DATA_DIR, image_size=(256, 256), max_items=8)\n",
        "print('Num samples (capped):', len(ds))\n",
        "\n",
        "if len(ds) > 0:\n",
        "  ex = ds[0]\n",
        "  display(ex.image)\n",
        "  print(ex.filename, len(ex.svg_text))\n"
      ]
    },
    {
      "cell_type": "code",
      "execution_count": null,
      "metadata": {},
      "outputs": [],
      "source": [
        "# 4) Dry-run collator shapes\n",
        "!uv run python -m scripts.train_sft_llava --dry-run --data-dir $DATA_DIR --max-items 2 --batch-size 1\n"
      ]
    },
    {
      "cell_type": "code",
      "execution_count": null,
      "metadata": {},
      "outputs": [],
      "source": [
        "# 5) Train (small)\n",
        "!uv run python -m scripts.train_sft_llava \\\n",
        "  --data-dir $DATA_DIR \\\n",
        "  --max-items 512 \\\n",
        "  --batch-size 1 \\\n",
        "  --output-dir $OUTPUT_DIR\n"
      ]
    }
  ],
  "metadata": {
    "language_info": {
      "name": "python"
    }
  },
  "nbformat": 4,
  "nbformat_minor": 2
}
