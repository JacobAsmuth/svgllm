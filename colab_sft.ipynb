{
  "cells": [
    {
      "cell_type": "markdown",
      "metadata": {},
      "source": [
        "# svgllm SFT on Colab (LLaVA 1.5 7B)\n",
        "\n",
        "This notebook mounts Google Drive, installs dependencies, clones the repo, and runs a small SFT job using data stored on Drive.\n"
      ]
    },
    {
      "cell_type": "code",
      "execution_count": null,
      "metadata": {},
      "outputs": [],
      "source": [
        "# 1) Runtime: set GPU to A100 in Colab UI: Runtime > Change runtime type > GPU > A100\n",
        "from google.colab import drive  # type: ignore\n",
        "import os\n",
        "from glob import glob\n",
        "\n",
        "drive.mount('/content/drive', force_remount=True)\n",
        "\n",
        "COLAB_ROOT = '/content'\n",
        "REPO_DIR = f'{COLAB_ROOT}/svgllm'\n",
        "DRIVE_ROOT = f'{COLAB_ROOT}/drive/MyDrive'\n",
        "DATA_DIR = f'{DRIVE_ROOT}/WikipediaSVG'  # customize if needed\n",
        "OUTPUT_DIR = f'{DRIVE_ROOT}/runs/sft-llava'\n",
        "\n",
        "print('Drive mounted. Data dir:', DATA_DIR)"
      ]
    },
    {
      "cell_type": "code",
      "execution_count": null,
      "metadata": {},
      "outputs": [],
      "source": [
        "# 2) Install dependencies and update repo (clone if missing)\n",
        "import os\n",
        "import subprocess\n",
        "from pathlib import Path\n",
        "\n",
        "# Clone if absent; otherwise fetch the latest from main\n",
        "repo_url = \"https://github.com/JacobAsmuth/svgllm\"\n",
        "if not Path(REPO_DIR).exists():\n",
        "  subprocess.run([\"pip\", \"install\", \"-U\", \"uv\"], check=True)\n",
        "  subprocess.run([\"git\", \"clone\", repo_url, REPO_DIR], check=True)\n",
        "else:\n",
        "  subprocess.run([\"git\", \"-C\", REPO_DIR, \"fetch\", \"origin\"], check=True)\n",
        "  subprocess.run([\"git\", \"-C\", REPO_DIR, \"checkout\", \"main\"], check=True)\n",
        "  subprocess.run([\"git\", \"-C\", REPO_DIR, \"reset\", \"--hard\", \"origin/main\"], check=True)\n",
        "\n",
        "os.chdir(REPO_DIR)\n",
        "# Bring in dependencies via uv\n",
        "subprocess.run([\"uv\", \"sync\"], check=True)"
      ]
    },
    {
      "cell_type": "code",
      "execution_count": null,
      "metadata": {},
      "outputs": [],
      "source": [
        "# 3) Quick dataset sanity check: render preview grid via uv\n",
        "!uv run python -m scripts.sanity_check --data-dir $DATA_DIR --limit 8 --size 256 --out /content/svg_preview.png\n",
        "from IPython.display import Image as DispImage, display\n",
        "try:\n",
        "  display(DispImage('/content/svg_preview.png'))\n",
        "except Exception as e:\n",
        "  print('Preview not available:', e)\n"
      ]
    },
    {
      "cell_type": "code",
      "execution_count": null,
      "metadata": {},
      "outputs": [],
      "source": [
        "# 4) Dry-run collator shapes\n",
        "!uv run python -m scripts.train_sft_llava --dry-run --data-dir $DATA_DIR --max-items 2 --batch-size 1\n"
      ]
    },
    {
      "cell_type": "code",
      "execution_count": null,
      "metadata": {},
      "outputs": [],
      "source": [
        "# 5) Train (small)\n",
        "!uv run python -m scripts.train_sft_llava \\\n",
        "  --data-dir $DATA_DIR \\\n",
        "  --max-items 512 \\\n",
        "  --batch-size 1 \\\n",
        "  --output-dir $OUTPUT_DIR\n"
      ]
    },
    {
      "cell_type": "code",
      "execution_count": null,
      "metadata": {},
      "outputs": [],
      "source": [
        "# 6) Load fine-tuned checkpoint and generate SVG for a sample\n",
        "import torch\n",
        "from transformers import AutoProcessor, LlavaForConditionalGeneration\n",
        "from svgllm.renderer import render_svg_to_rgb\n",
        "from PIL import Image\n",
        "import numpy as np\n",
        "\n",
        "ckpt_dir = OUTPUT_DIR  # fine-tuned output dir from training cell\n",
        "processor = AutoProcessor.from_pretrained(ckpt_dir)\n",
        "model = LlavaForConditionalGeneration.from_pretrained(\n",
        "    ckpt_dir,\n",
        "    torch_dtype=torch.float16 if torch.cuda.is_available() else torch.float32,\n",
        ").to(0 if torch.cuda.is_available() else 'cpu')\n",
        "\n",
        "# Pick a sample (first) from the dataset previewed earlier\n",
        "if 'ds' not in globals():\n",
        "  from svgllm.data.svg_dataset import SvgSftDataset\n",
        "  ds = SvgSftDataset(DATA_DIR, image_size=(256, 256), max_items=8)\n",
        "\n",
        "sample = ds[0]\n",
        "image = sample.image\n",
        "\n",
        "messages = [\n",
        "    {\"role\": \"user\", \"content\": [\n",
        "        {\"type\": \"text\", \"text\": \"Reproduce this image as an SVG.\"},\n",
        "        {\"type\": \"image\"},\n",
        "    ]},\n",
        "]\n",
        "prompt = processor.apply_chat_template(messages, add_generation_prompt=True)\n",
        "inputs = processor(images=image, text=prompt, return_tensors='pt')\n",
        "if torch.cuda.is_available():\n",
        "  inputs = {k: v.to(0) for k, v in inputs.items()}\n",
        "\n",
        "gen_ids = model.generate(\n",
        "    **inputs,\n",
        "    max_new_tokens=512,\n",
        "    do_sample=True,\n",
        "    temperature=0.7,\n",
        "    top_p=0.9,\n",
        ")\n",
        "input_len = inputs[\"input_ids\"].shape[1]\n",
        "svg_text = processor.tokenizer.decode(gen_ids[0][input_len:], skip_special_tokens=True)\n",
        "print(svg_text[:1000])\n"
      ]
    },
    {
      "cell_type": "code",
      "execution_count": null,
      "metadata": {},
      "outputs": [],
      "source": [
        "# 7) Render the generated SVG next to the target\n",
        "from IPython.display import display\n",
        "\n",
        "target_np = np.array(image.convert('RGB'))\n",
        "try:\n",
        "  pred_np = render_svg_to_rgb(svg_text, size=(256, 256))\n",
        "except Exception as e:\n",
        "  print('Render failed:', e)\n",
        "  pred_np = np.zeros_like(target_np)\n",
        "\n",
        "print('Target (left) vs Generated (right)')\n",
        "display(Image.fromarray(np.hstack([target_np, pred_np])))\n"
      ]
    }
  ],
  "metadata": {
    "language_info": {
      "name": "python"
    }
  },
  "nbformat": 4,
  "nbformat_minor": 2
}
